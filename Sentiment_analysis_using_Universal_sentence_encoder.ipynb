{
  "nbformat": 4,
  "nbformat_minor": 0,
  "metadata": {
    "colab": {
      "name": "Sentiment analysis using Universal-sentence-encoder.ipynb",
      "provenance": [],
      "collapsed_sections": [],
      "mount_file_id": "1DZGnFwfMEYfVzt87wM5PM-xlgk0pGGw5",
      "authorship_tag": "ABX9TyNbg8WU1WuTTDXS18dfYjTA",
      "include_colab_link": true
    },
    "kernelspec": {
      "name": "python3",
      "display_name": "Python 3"
    },
    "language_info": {
      "name": "python"
    }
  },
  "cells": [
    {
      "cell_type": "markdown",
      "metadata": {
        "id": "view-in-github",
        "colab_type": "text"
      },
      "source": [
        "<a href=\"https://colab.research.google.com/github/Tasfiq23/Sentiment-analysis-using-tensorflow/blob/main/Sentiment_analysis_using_Universal_sentence_encoder.ipynb\" target=\"_parent\"><img src=\"https://colab.research.google.com/assets/colab-badge.svg\" alt=\"Open In Colab\"/></a>"
      ]
    },
    {
      "cell_type": "code",
      "metadata": {
        "id": "p7v4FjDZSDZu"
      },
      "source": [
        "import requests\n",
        "from pathlib import Path\n",
        "from tarfile import TarFile\n",
        "from bs4 import BeautifulSoup\n",
        "import io\n",
        "import pandas as pd\n",
        "import numpy as np\n",
        "import tensorflow_hub as hub\n",
        "\n",
        "\n",
        "# download tar with psuedo XML...\n",
        "url = \"http://www.cs.jhu.edu/%7Emdredze/datasets/sentiment/domain_sentiment_data.tar.gz\"\n",
        "fn = Path.cwd().joinpath(url.split(\"/\")[-1])\n",
        "if not fn.exists():\n",
        "    r = requests.get(url, stream=True)\n",
        "    with open(fn, 'wb') as f:\n",
        "        for chunk in r.raw.stream(1024, decode_content=False):\n",
        "            if chunk:\n",
        "                f.write(chunk)\n",
        "\n",
        "# untar downloaded file and generate a dictionary of all files\n",
        "TarFile.open(fn, \"r:gz\").extractall()\n",
        "files = {f\"{p.parent.name}/{p.name}\":p for p in Path.cwd().joinpath(\"sorted_data_acl\").glob(\"**/*\") if p.is_file()}\n",
        "\n",
        "# convert all files into dataframes in a dict\n",
        "dfs = {}\n",
        "for file in files.keys():\n",
        "    with open(files[file]) as f: text = f.read()\n",
        "    # psuedo xml where there is not root element stops it from being well formed\n",
        "    # force it in...\n",
        "    soup = BeautifulSoup(f\"<root>{text}</root>\", \"xml\")\n",
        "    # simple case of each review is a row and each child element is a column\n",
        "    dfs[file] = pd.DataFrame([{c.name:c.text.strip(\"\\n\") for c in r.children if c.name} for r in soup.find_all(\"review\")])\n",
        "\n"
      ],
      "execution_count": null,
      "outputs": []
    },
    {
      "cell_type": "code",
      "metadata": {
        "colab": {
          "base_uri": "https://localhost:8080/"
        },
        "id": "IUNNqHKaShWT",
        "outputId": "5e14862c-9495-464c-ef23-39547919c1e6"
      },
      "source": [
        "positive_reviews=[]\n",
        "negative_reviews=[]\n",
        "\n",
        "for k,v in dfs.items():\n",
        " \n",
        "  if k.split('/')[1] == \"positive.review\": \n",
        "    positive_reviews.append(v)\n",
        "  elif k.split('/')[1] == \"negative.review\":\n",
        "    negative_reviews.append(v)\n",
        "type(negative_reviews[3])"
      ],
      "execution_count": null,
      "outputs": [
        {
          "output_type": "execute_result",
          "data": {
            "text/plain": [
              "pandas.core.frame.DataFrame"
            ]
          },
          "metadata": {
            "tags": []
          },
          "execution_count": 2
        }
      ]
    },
    {
      "cell_type": "code",
      "metadata": {
        "id": "dhwEedEEdUMc"
      },
      "source": [
        "df_neg = pd.concat([negative_reviews[0],negative_reviews[1],negative_reviews[2],negative_reviews[3]])\n",
        "df_pos = pd.concat([positive_reviews[0],positive_reviews[1],positive_reviews[2],positive_reviews[3]])"
      ],
      "execution_count": null,
      "outputs": []
    },
    {
      "cell_type": "code",
      "metadata": {
        "id": "tQQ7l8gvYFZl"
      },
      "source": [
        "#Adding class column for positive and negative\n",
        "df_pos['class']= 'Pos'\n",
        "df_neg['class']= 'Neg'\n"
      ],
      "execution_count": null,
      "outputs": []
    },
    {
      "cell_type": "code",
      "metadata": {
        "colab": {
          "base_uri": "https://localhost:8080/",
          "height": 640
        },
        "id": "AoygerZgZYJN",
        "outputId": "aae480f1-af81-4804-9944-3073b5bc5473"
      },
      "source": [
        "df = pd.concat([df_pos,df_neg],ignore_index=True)\n",
        "\n"
      ],
      "execution_count": null,
      "outputs": [
        {
          "output_type": "execute_result",
          "data": {
            "text/html": [
              "<div>\n",
              "<style scoped>\n",
              "    .dataframe tbody tr th:only-of-type {\n",
              "        vertical-align: middle;\n",
              "    }\n",
              "\n",
              "    .dataframe tbody tr th {\n",
              "        vertical-align: top;\n",
              "    }\n",
              "\n",
              "    .dataframe thead th {\n",
              "        text-align: right;\n",
              "    }\n",
              "</style>\n",
              "<table border=\"1\" class=\"dataframe\">\n",
              "  <thead>\n",
              "    <tr style=\"text-align: right;\">\n",
              "      <th></th>\n",
              "      <th>unique_id</th>\n",
              "      <th>asin</th>\n",
              "      <th>product_name</th>\n",
              "      <th>product_type</th>\n",
              "      <th>helpful</th>\n",
              "      <th>rating</th>\n",
              "      <th>title</th>\n",
              "      <th>date</th>\n",
              "      <th>reviewer</th>\n",
              "      <th>reviewer_location</th>\n",
              "      <th>review_text</th>\n",
              "      <th>class</th>\n",
              "    </tr>\n",
              "  </thead>\n",
              "  <tbody>\n",
              "    <tr>\n",
              "      <th>0</th>\n",
              "      <td>B00068N1DO:perfectly_fits_the_books'_atmospher...</td>\n",
              "      <td>B00068N1DO</td>\n",
              "      <td>Lemony Snicket's A Series of Unfortunate Event...</td>\n",
              "      <td>kitchen  housewares</td>\n",
              "      <td></td>\n",
              "      <td>5.0</td>\n",
              "      <td>Perfectly fits the books' atmosphere</td>\n",
              "      <td>October 17, 2004</td>\n",
              "      <td>C. MCCALLISTER \"dr_dolphin\"</td>\n",
              "      <td>The waters of the Great Lakes</td>\n",
              "      <td>For those of you unfamiliar with the \"A Series...</td>\n",
              "      <td>Pos</td>\n",
              "    </tr>\n",
              "    <tr>\n",
              "      <th>1</th>\n",
              "      <td>B000634GCO:no_more_doggy_fueds_with_neighbor:e...</td>\n",
              "      <td>B000634GCO</td>\n",
              "      <td>Stationary Bark Control by Petsafe: Kitchen  H...</td>\n",
              "      <td>kitchen  housewares</td>\n",
              "      <td>6 of 6</td>\n",
              "      <td>5.0</td>\n",
              "      <td>no more doggy fueds with neighbor</td>\n",
              "      <td>December 30, 2005</td>\n",
              "      <td>E. Patterson</td>\n",
              "      <td>california</td>\n",
              "      <td>i absolutely love this product. my neighbor ha...</td>\n",
              "      <td>Pos</td>\n",
              "    </tr>\n",
              "    <tr>\n",
              "      <th>2</th>\n",
              "      <td>B0006PK1D0:worked_for_us:gadget_mom</td>\n",
              "      <td>B0006PK1D0</td>\n",
              "      <td>Reporter WireFree Intercom System: Kitchen  Ho...</td>\n",
              "      <td>kitchen  housewares</td>\n",
              "      <td></td>\n",
              "      <td>4.0</td>\n",
              "      <td>Worked for us</td>\n",
              "      <td>November 3, 2006</td>\n",
              "      <td>Gadget Mom</td>\n",
              "      <td>NY</td>\n",
              "      <td>I purchased 3 units and they work well for us....</td>\n",
              "      <td>Pos</td>\n",
              "    </tr>\n",
              "    <tr>\n",
              "      <th>3</th>\n",
              "      <td>B00009K3V1:new_fry-guy_-_pretty_pleased....:br...</td>\n",
              "      <td>B00009K3V1</td>\n",
              "      <td>Waring DF200 Professional Deep Fryer, Brushed ...</td>\n",
              "      <td>kitchen  housewares</td>\n",
              "      <td>8 of 9</td>\n",
              "      <td>4.0</td>\n",
              "      <td>New Fry-guy - pretty pleased....</td>\n",
              "      <td>July 7, 2006</td>\n",
              "      <td>Brian W. Hodgman</td>\n",
              "      <td>Midwest</td>\n",
              "      <td>I've always wanted a deep fryer, and finally d...</td>\n",
              "      <td>Pos</td>\n",
              "    </tr>\n",
              "    <tr>\n",
              "      <th>4</th>\n",
              "      <td>B00009K3V1:excellent_fryer:j._white_\"janinenc\"</td>\n",
              "      <td>B00009K3V1</td>\n",
              "      <td>Waring DF200 Professional Deep Fryer, Brushed ...</td>\n",
              "      <td>kitchen  housewares</td>\n",
              "      <td>2 of 2</td>\n",
              "      <td>5.0</td>\n",
              "      <td>Excellent fryer</td>\n",
              "      <td>July 3, 2006</td>\n",
              "      <td>J. White \"janinenc\"</td>\n",
              "      <td>OR United States</td>\n",
              "      <td>Easy to use, easy to clean. Two major requirem...</td>\n",
              "      <td>Pos</td>\n",
              "    </tr>\n",
              "    <tr>\n",
              "      <th>...</th>\n",
              "      <td>...</td>\n",
              "      <td>...</td>\n",
              "      <td>...</td>\n",
              "      <td>...</td>\n",
              "      <td>...</td>\n",
              "      <td>...</td>\n",
              "      <td>...</td>\n",
              "      <td>...</td>\n",
              "      <td>...</td>\n",
              "      <td>...</td>\n",
              "      <td>...</td>\n",
              "      <td>...</td>\n",
              "    </tr>\n",
              "    <tr>\n",
              "      <th>7995</th>\n",
              "      <td>0385514573:a_nice_place_to_visit....:nina_shis...</td>\n",
              "      <td>0385514573</td>\n",
              "      <td>Deadly Slipper: A Novel of Death in the Dordog...</td>\n",
              "      <td>books</td>\n",
              "      <td>5 of 10</td>\n",
              "      <td>2.0</td>\n",
              "      <td>a nice place to visit....</td>\n",
              "      <td>February 25, 2006</td>\n",
              "      <td>Nina Shishkoff \"mycologist\"</td>\n",
              "      <td>Mount Airy, MD</td>\n",
              "      <td>If I had been an editor and received \"Deadly S...</td>\n",
              "      <td>Neg</td>\n",
              "    </tr>\n",
              "    <tr>\n",
              "      <th>7996</th>\n",
              "      <td>0385514573:boring:o._gonzalez</td>\n",
              "      <td>0385514573</td>\n",
              "      <td>Deadly Slipper: A Novel of Death in the Dordog...</td>\n",
              "      <td>books</td>\n",
              "      <td>2 of 3</td>\n",
              "      <td>1.0</td>\n",
              "      <td>boring</td>\n",
              "      <td>July 30, 2005</td>\n",
              "      <td>O. Gonzalez</td>\n",
              "      <td>Ashburn, VA</td>\n",
              "      <td>This book is very disappointing. The writing i...</td>\n",
              "      <td>Neg</td>\n",
              "    </tr>\n",
              "    <tr>\n",
              "      <th>7997</th>\n",
              "      <td>097160200X:lacking:m._roman_\"matt1234567\"</td>\n",
              "      <td>097160200X</td>\n",
              "      <td>Sitting Pretty: Looking and Feeling Better Wit...</td>\n",
              "      <td>books</td>\n",
              "      <td>7 of 7</td>\n",
              "      <td>1.0</td>\n",
              "      <td>Lacking</td>\n",
              "      <td>May 3, 2005</td>\n",
              "      <td>M. Roman \"matt1234567\"</td>\n",
              "      <td></td>\n",
              "      <td>I was extremely disappointed by this book/pamp...</td>\n",
              "      <td>Neg</td>\n",
              "    </tr>\n",
              "    <tr>\n",
              "      <th>7998</th>\n",
              "      <td>1564147363:okay_for_ideas:stacy_e._burrell_\"st...</td>\n",
              "      <td>1564147363</td>\n",
              "      <td>The 100 Best Businesses to Start When You Don'...</td>\n",
              "      <td>books</td>\n",
              "      <td>22 of 22</td>\n",
              "      <td>2.0</td>\n",
              "      <td>Okay for ideas</td>\n",
              "      <td>March 23, 2005</td>\n",
              "      <td>Stacy E. Burrell \"Stacy's Blog (See stacyburre...</td>\n",
              "      <td>Detroit, MI USA</td>\n",
              "      <td>This book is the typical package of business i...</td>\n",
              "      <td>Neg</td>\n",
              "    </tr>\n",
              "    <tr>\n",
              "      <th>7999</th>\n",
              "      <td>0312273193:it's_just_\"reefer_madness\"_:r._johns</td>\n",
              "      <td>0312273193</td>\n",
              "      <td>The Hunting of the President: The Ten-Year Cam...</td>\n",
              "      <td>books</td>\n",
              "      <td>8 of 62</td>\n",
              "      <td>1.0</td>\n",
              "      <td>It's just \"Reefer Madness\"</td>\n",
              "      <td>August 13, 2004</td>\n",
              "      <td>R. Johns</td>\n",
              "      <td>CT</td>\n",
              "      <td>And you shouldn't inhale.\\nSeveral reviewers h...</td>\n",
              "      <td>Neg</td>\n",
              "    </tr>\n",
              "  </tbody>\n",
              "</table>\n",
              "<p>8000 rows × 12 columns</p>\n",
              "</div>"
            ],
            "text/plain": [
              "                                              unique_id  ... class\n",
              "0     B00068N1DO:perfectly_fits_the_books'_atmospher...  ...   Pos\n",
              "1     B000634GCO:no_more_doggy_fueds_with_neighbor:e...  ...   Pos\n",
              "2                   B0006PK1D0:worked_for_us:gadget_mom  ...   Pos\n",
              "3     B00009K3V1:new_fry-guy_-_pretty_pleased....:br...  ...   Pos\n",
              "4        B00009K3V1:excellent_fryer:j._white_\"janinenc\"  ...   Pos\n",
              "...                                                 ...  ...   ...\n",
              "7995  0385514573:a_nice_place_to_visit....:nina_shis...  ...   Neg\n",
              "7996                      0385514573:boring:o._gonzalez  ...   Neg\n",
              "7997          097160200X:lacking:m._roman_\"matt1234567\"  ...   Neg\n",
              "7998  1564147363:okay_for_ideas:stacy_e._burrell_\"st...  ...   Neg\n",
              "7999    0312273193:it's_just_\"reefer_madness\"_:r._johns  ...   Neg\n",
              "\n",
              "[8000 rows x 12 columns]"
            ]
          },
          "metadata": {
            "tags": []
          },
          "execution_count": 5
        }
      ]
    },
    {
      "cell_type": "markdown",
      "metadata": {
        "id": "6i3GKx7aLwbZ"
      },
      "source": [
        "# Using universal-sentence-encoder"
      ]
    },
    {
      "cell_type": "code",
      "metadata": {
        "id": "ywkSR-Y2tgEJ",
        "colab": {
          "base_uri": "https://localhost:8080/"
        },
        "outputId": "20e20dab-f9df-41f0-9aba-c9a61743e67f"
      },
      "source": [
        "import tensorflow_hub as hub\n",
        "!pip install tensorflow_text\n",
        "import tensorflow_text\n",
        "use = hub.load(\"https://tfhub.dev/google/universal-sentence-encoder-multilingual-large/3\")"
      ],
      "execution_count": null,
      "outputs": [
        {
          "output_type": "stream",
          "text": [
            "Collecting tensorflow_text\n",
            "  Downloading tensorflow_text-2.5.0-cp37-cp37m-manylinux1_x86_64.whl (4.3 MB)\n",
            "\u001b[K     |████████████████████████████████| 4.3 MB 5.2 MB/s \n",
            "\u001b[?25hRequirement already satisfied: tensorflow-hub>=0.8.0 in /usr/local/lib/python3.7/dist-packages (from tensorflow_text) (0.12.0)\n",
            "Requirement already satisfied: tensorflow<2.6,>=2.5.0 in /usr/local/lib/python3.7/dist-packages (from tensorflow_text) (2.5.0)\n",
            "Requirement already satisfied: astunparse~=1.6.3 in /usr/local/lib/python3.7/dist-packages (from tensorflow<2.6,>=2.5.0->tensorflow_text) (1.6.3)\n",
            "Requirement already satisfied: six~=1.15.0 in /usr/local/lib/python3.7/dist-packages (from tensorflow<2.6,>=2.5.0->tensorflow_text) (1.15.0)\n",
            "Requirement already satisfied: google-pasta~=0.2 in /usr/local/lib/python3.7/dist-packages (from tensorflow<2.6,>=2.5.0->tensorflow_text) (0.2.0)\n",
            "Requirement already satisfied: protobuf>=3.9.2 in /usr/local/lib/python3.7/dist-packages (from tensorflow<2.6,>=2.5.0->tensorflow_text) (3.17.3)\n",
            "Requirement already satisfied: keras-preprocessing~=1.1.2 in /usr/local/lib/python3.7/dist-packages (from tensorflow<2.6,>=2.5.0->tensorflow_text) (1.1.2)\n",
            "Requirement already satisfied: typing-extensions~=3.7.4 in /usr/local/lib/python3.7/dist-packages (from tensorflow<2.6,>=2.5.0->tensorflow_text) (3.7.4.3)\n",
            "Requirement already satisfied: absl-py~=0.10 in /usr/local/lib/python3.7/dist-packages (from tensorflow<2.6,>=2.5.0->tensorflow_text) (0.12.0)\n",
            "Requirement already satisfied: tensorboard~=2.5 in /usr/local/lib/python3.7/dist-packages (from tensorflow<2.6,>=2.5.0->tensorflow_text) (2.5.0)\n",
            "Requirement already satisfied: grpcio~=1.34.0 in /usr/local/lib/python3.7/dist-packages (from tensorflow<2.6,>=2.5.0->tensorflow_text) (1.34.1)\n",
            "Requirement already satisfied: numpy~=1.19.2 in /usr/local/lib/python3.7/dist-packages (from tensorflow<2.6,>=2.5.0->tensorflow_text) (1.19.5)\n",
            "Requirement already satisfied: gast==0.4.0 in /usr/local/lib/python3.7/dist-packages (from tensorflow<2.6,>=2.5.0->tensorflow_text) (0.4.0)\n",
            "Requirement already satisfied: opt-einsum~=3.3.0 in /usr/local/lib/python3.7/dist-packages (from tensorflow<2.6,>=2.5.0->tensorflow_text) (3.3.0)\n",
            "Requirement already satisfied: wrapt~=1.12.1 in /usr/local/lib/python3.7/dist-packages (from tensorflow<2.6,>=2.5.0->tensorflow_text) (1.12.1)\n",
            "Requirement already satisfied: keras-nightly~=2.5.0.dev in /usr/local/lib/python3.7/dist-packages (from tensorflow<2.6,>=2.5.0->tensorflow_text) (2.5.0.dev2021032900)\n",
            "Requirement already satisfied: h5py~=3.1.0 in /usr/local/lib/python3.7/dist-packages (from tensorflow<2.6,>=2.5.0->tensorflow_text) (3.1.0)\n",
            "Requirement already satisfied: wheel~=0.35 in /usr/local/lib/python3.7/dist-packages (from tensorflow<2.6,>=2.5.0->tensorflow_text) (0.36.2)\n",
            "Requirement already satisfied: termcolor~=1.1.0 in /usr/local/lib/python3.7/dist-packages (from tensorflow<2.6,>=2.5.0->tensorflow_text) (1.1.0)\n",
            "Requirement already satisfied: tensorflow-estimator<2.6.0,>=2.5.0rc0 in /usr/local/lib/python3.7/dist-packages (from tensorflow<2.6,>=2.5.0->tensorflow_text) (2.5.0)\n",
            "Requirement already satisfied: flatbuffers~=1.12.0 in /usr/local/lib/python3.7/dist-packages (from tensorflow<2.6,>=2.5.0->tensorflow_text) (1.12)\n",
            "Requirement already satisfied: cached-property in /usr/local/lib/python3.7/dist-packages (from h5py~=3.1.0->tensorflow<2.6,>=2.5.0->tensorflow_text) (1.5.2)\n",
            "Requirement already satisfied: google-auth-oauthlib<0.5,>=0.4.1 in /usr/local/lib/python3.7/dist-packages (from tensorboard~=2.5->tensorflow<2.6,>=2.5.0->tensorflow_text) (0.4.4)\n",
            "Requirement already satisfied: setuptools>=41.0.0 in /usr/local/lib/python3.7/dist-packages (from tensorboard~=2.5->tensorflow<2.6,>=2.5.0->tensorflow_text) (57.2.0)\n",
            "Requirement already satisfied: tensorboard-data-server<0.7.0,>=0.6.0 in /usr/local/lib/python3.7/dist-packages (from tensorboard~=2.5->tensorflow<2.6,>=2.5.0->tensorflow_text) (0.6.1)\n",
            "Requirement already satisfied: google-auth<2,>=1.6.3 in /usr/local/lib/python3.7/dist-packages (from tensorboard~=2.5->tensorflow<2.6,>=2.5.0->tensorflow_text) (1.32.1)\n",
            "Requirement already satisfied: requests<3,>=2.21.0 in /usr/local/lib/python3.7/dist-packages (from tensorboard~=2.5->tensorflow<2.6,>=2.5.0->tensorflow_text) (2.23.0)\n",
            "Requirement already satisfied: markdown>=2.6.8 in /usr/local/lib/python3.7/dist-packages (from tensorboard~=2.5->tensorflow<2.6,>=2.5.0->tensorflow_text) (3.3.4)\n",
            "Requirement already satisfied: tensorboard-plugin-wit>=1.6.0 in /usr/local/lib/python3.7/dist-packages (from tensorboard~=2.5->tensorflow<2.6,>=2.5.0->tensorflow_text) (1.8.0)\n",
            "Requirement already satisfied: werkzeug>=0.11.15 in /usr/local/lib/python3.7/dist-packages (from tensorboard~=2.5->tensorflow<2.6,>=2.5.0->tensorflow_text) (1.0.1)\n",
            "Requirement already satisfied: rsa<5,>=3.1.4 in /usr/local/lib/python3.7/dist-packages (from google-auth<2,>=1.6.3->tensorboard~=2.5->tensorflow<2.6,>=2.5.0->tensorflow_text) (4.7.2)\n",
            "Requirement already satisfied: cachetools<5.0,>=2.0.0 in /usr/local/lib/python3.7/dist-packages (from google-auth<2,>=1.6.3->tensorboard~=2.5->tensorflow<2.6,>=2.5.0->tensorflow_text) (4.2.2)\n",
            "Requirement already satisfied: pyasn1-modules>=0.2.1 in /usr/local/lib/python3.7/dist-packages (from google-auth<2,>=1.6.3->tensorboard~=2.5->tensorflow<2.6,>=2.5.0->tensorflow_text) (0.2.8)\n",
            "Requirement already satisfied: requests-oauthlib>=0.7.0 in /usr/local/lib/python3.7/dist-packages (from google-auth-oauthlib<0.5,>=0.4.1->tensorboard~=2.5->tensorflow<2.6,>=2.5.0->tensorflow_text) (1.3.0)\n",
            "Requirement already satisfied: importlib-metadata in /usr/local/lib/python3.7/dist-packages (from markdown>=2.6.8->tensorboard~=2.5->tensorflow<2.6,>=2.5.0->tensorflow_text) (4.6.1)\n",
            "Requirement already satisfied: pyasn1<0.5.0,>=0.4.6 in /usr/local/lib/python3.7/dist-packages (from pyasn1-modules>=0.2.1->google-auth<2,>=1.6.3->tensorboard~=2.5->tensorflow<2.6,>=2.5.0->tensorflow_text) (0.4.8)\n",
            "Requirement already satisfied: urllib3!=1.25.0,!=1.25.1,<1.26,>=1.21.1 in /usr/local/lib/python3.7/dist-packages (from requests<3,>=2.21.0->tensorboard~=2.5->tensorflow<2.6,>=2.5.0->tensorflow_text) (1.24.3)\n",
            "Requirement already satisfied: chardet<4,>=3.0.2 in /usr/local/lib/python3.7/dist-packages (from requests<3,>=2.21.0->tensorboard~=2.5->tensorflow<2.6,>=2.5.0->tensorflow_text) (3.0.4)\n",
            "Requirement already satisfied: certifi>=2017.4.17 in /usr/local/lib/python3.7/dist-packages (from requests<3,>=2.21.0->tensorboard~=2.5->tensorflow<2.6,>=2.5.0->tensorflow_text) (2021.5.30)\n",
            "Requirement already satisfied: idna<3,>=2.5 in /usr/local/lib/python3.7/dist-packages (from requests<3,>=2.21.0->tensorboard~=2.5->tensorflow<2.6,>=2.5.0->tensorflow_text) (2.10)\n",
            "Requirement already satisfied: oauthlib>=3.0.0 in /usr/local/lib/python3.7/dist-packages (from requests-oauthlib>=0.7.0->google-auth-oauthlib<0.5,>=0.4.1->tensorboard~=2.5->tensorflow<2.6,>=2.5.0->tensorflow_text) (3.1.1)\n",
            "Requirement already satisfied: zipp>=0.5 in /usr/local/lib/python3.7/dist-packages (from importlib-metadata->markdown>=2.6.8->tensorboard~=2.5->tensorflow<2.6,>=2.5.0->tensorflow_text) (3.5.0)\n",
            "Installing collected packages: tensorflow-text\n",
            "Successfully installed tensorflow-text-2.5.0\n"
          ],
          "name": "stdout"
        }
      ]
    },
    {
      "cell_type": "code",
      "metadata": {
        "id": "o3qDrSyYxNLV"
      },
      "source": [
        "from sklearn.preprocessing import OneHotEncoder\n",
        "\n",
        "type_one_hot = OneHotEncoder(sparse=False).fit_transform(df[\"class\"].to_numpy().reshape(-1, 1))"
      ],
      "execution_count": null,
      "outputs": []
    },
    {
      "cell_type": "code",
      "metadata": {
        "id": "VuA7sko3nzPU"
      },
      "source": [
        "X , y = df['review_text'],df['class']\n",
        "\n",
        "X.to_numpy()\n",
        "y.to_numpy()\n",
        "\n",
        "from sklearn.model_selection import train_test_split\n",
        "\n",
        "train_review, test_review, y_train, y_test = train_test_split(X, type_one_hot, test_size=0.2, random_state=42)"
      ],
      "execution_count": null,
      "outputs": []
    },
    {
      "cell_type": "code",
      "metadata": {
        "colab": {
          "base_uri": "https://localhost:8080/"
        },
        "id": "amb0nh0V3MHf",
        "outputId": "76ad7cd3-03a8-4760-d076-be2b58d08dbe"
      },
      "source": [
        "from tqdm import tqdm\n",
        "import tensorflow as tf\n",
        "\n",
        "X_train = []\n",
        "for r in tqdm(train_review):\n",
        "  emb = use(r)\n",
        "  review_emb = tf.reshape(emb, [-1]).numpy()\n",
        "  X_train.append(review_emb)\n",
        "\n",
        "X_train = np.array(X_train)\n",
        "\n",
        "X_test = []\n",
        "for r in tqdm(test_review):\n",
        "  emb = use(r)\n",
        "  review_emb = tf.reshape(emb, [-1]).numpy()\n",
        "  X_test.append(review_emb)\n",
        "\n",
        "X_test = np.array(X_test)\n",
        "\n"
      ],
      "execution_count": null,
      "outputs": [
        {
          "output_type": "stream",
          "text": [
            "100%|██████████| 6400/6400 [26:47<00:00,  3.98it/s]\n",
            "100%|██████████| 1600/1600 [07:40<00:00,  3.48it/s]\n"
          ],
          "name": "stderr"
        }
      ]
    },
    {
      "cell_type": "code",
      "metadata": {
        "colab": {
          "base_uri": "https://localhost:8080/"
        },
        "id": "QxIL8Wq28M-u",
        "outputId": "9412ba0b-4531-4552-d251-74e2724b0744"
      },
      "source": [
        "print(X_train.shape, X_test.shape)\n",
        "print(y_train.shape, y_test.shape)"
      ],
      "execution_count": null,
      "outputs": [
        {
          "output_type": "stream",
          "text": [
            "(6400, 512) (1600, 512)\n",
            "(6400, 2) (1600, 2)\n"
          ],
          "name": "stdout"
        }
      ]
    },
    {
      "cell_type": "code",
      "metadata": {
        "id": "wDFhPGOz8Ujh"
      },
      "source": [
        "from tensorflow import keras\n",
        "from keras import regularizers\n",
        "\n",
        "model = keras.Sequential()\n",
        "\n",
        "model.add(\n",
        "  keras.layers.Dense(\n",
        "    units=256,\n",
        "    kernel_regularizer=regularizers.l2(0.001),\n",
        "    input_shape=(X_train.shape[1], ),\n",
        "    activation='relu'\n",
        "  )\n",
        ")\n",
        "model.add(\n",
        "  keras.layers.Dropout(rate=0.5)\n",
        ")\n",
        "\n",
        "\n",
        "model.add(\n",
        "  keras.layers.Dense(\n",
        "    units=128,\n",
        "    kernel_regularizer=regularizers.l2(0.001),\n",
        "    activation='relu'\n",
        "  )\n",
        ")\n",
        "model.add(\n",
        "  keras.layers.Dropout(rate=0.5)\n",
        ")\n",
        "\n",
        "model.add(keras.layers.Dense(2, activation='softmax'))\n",
        "model.compile(\n",
        "    loss='categorical_crossentropy', \n",
        "    optimizer=keras.optimizers.Adam(0.001),\n",
        "    metrics=['accuracy'])"
      ],
      "execution_count": null,
      "outputs": []
    },
    {
      "cell_type": "code",
      "metadata": {
        "colab": {
          "base_uri": "https://localhost:8080/"
        },
        "id": "hECOQU-jB3D_",
        "outputId": "ea6a4079-5725-4ca8-85c9-e44d6dc34e90"
      },
      "source": [
        "history = model.fit(\n",
        "    X_train, y_train, \n",
        "    epochs=10, \n",
        "    batch_size=16, \n",
        "    validation_split=0.1, \n",
        "    verbose=1, \n",
        "    shuffle=True\n",
        ")"
      ],
      "execution_count": null,
      "outputs": [
        {
          "output_type": "stream",
          "text": [
            "Epoch 1/10\n",
            "360/360 [==============================] - 2s 4ms/step - loss: 0.8035 - accuracy: 0.7243 - val_loss: 0.6101 - val_accuracy: 0.7750\n",
            "Epoch 2/10\n",
            "360/360 [==============================] - 1s 4ms/step - loss: 0.5822 - accuracy: 0.7948 - val_loss: 0.5633 - val_accuracy: 0.7875\n",
            "Epoch 3/10\n",
            "360/360 [==============================] - 1s 4ms/step - loss: 0.5325 - accuracy: 0.8087 - val_loss: 0.5313 - val_accuracy: 0.7906\n",
            "Epoch 4/10\n",
            "360/360 [==============================] - 1s 3ms/step - loss: 0.5077 - accuracy: 0.8127 - val_loss: 0.5431 - val_accuracy: 0.7719\n",
            "Epoch 5/10\n",
            "360/360 [==============================] - 1s 4ms/step - loss: 0.4934 - accuracy: 0.8174 - val_loss: 0.5388 - val_accuracy: 0.7734\n",
            "Epoch 6/10\n",
            "360/360 [==============================] - 1s 3ms/step - loss: 0.4849 - accuracy: 0.8245 - val_loss: 0.5360 - val_accuracy: 0.7891\n",
            "Epoch 7/10\n",
            "360/360 [==============================] - 1s 4ms/step - loss: 0.4735 - accuracy: 0.8318 - val_loss: 0.5447 - val_accuracy: 0.7734\n",
            "Epoch 8/10\n",
            "360/360 [==============================] - 1s 4ms/step - loss: 0.4654 - accuracy: 0.8465 - val_loss: 0.5431 - val_accuracy: 0.7828\n",
            "Epoch 9/10\n",
            "360/360 [==============================] - 1s 4ms/step - loss: 0.4528 - accuracy: 0.8543 - val_loss: 0.5644 - val_accuracy: 0.7828\n",
            "Epoch 10/10\n",
            "360/360 [==============================] - 1s 4ms/step - loss: 0.4540 - accuracy: 0.8514 - val_loss: 0.5527 - val_accuracy: 0.7969\n"
          ],
          "name": "stdout"
        }
      ]
    },
    {
      "cell_type": "code",
      "metadata": {
        "colab": {
          "base_uri": "https://localhost:8080/",
          "height": 279
        },
        "id": "MN74HQGPCLfD",
        "outputId": "ec1152aa-6cb8-462c-f46d-96dce0ace6fd"
      },
      "source": [
        "import matplotlib.pyplot as plt\n",
        "\n",
        "plt.plot(history.history['loss'], label='train loss')\n",
        "plt.plot(history.history['val_loss'], label='val loss')\n",
        "plt.xlabel(\"epoch\")\n",
        "plt.ylabel(\"Cross-entropy loss\")\n",
        "plt.legend();"
      ],
      "execution_count": null,
      "outputs": [
        {
          "output_type": "display_data",
          "data": {
            "image/png": "[encoded data removed]",
            "text/plain": [
              "<Figure size 432x288 with 1 Axes>"
            ]
          },
          "metadata": {
            "tags": [],
            "needs_background": "light"
          }
        }
      ]
    }
  ]
}